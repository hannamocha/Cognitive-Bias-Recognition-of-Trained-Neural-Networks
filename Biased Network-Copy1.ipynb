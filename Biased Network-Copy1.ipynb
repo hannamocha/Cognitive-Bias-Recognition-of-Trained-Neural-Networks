{
 "cells": [
  {
   "cell_type": "code",
   "execution_count": null,
   "metadata": {
    "collapsed": true
   },
   "outputs": [],
   "source": [
    "from conx import Network\n",
    "import random"
   ]
  },
  {
   "cell_type": "code",
   "execution_count": null,
   "metadata": {
    "collapsed": true
   },
   "outputs": [],
   "source": [
    "#2-input, 2-hidden, 1-output network\n",
    "net = Network(2, 2, 1)\n",
    "\n",
    "rows = 60"
   ]
  },
  {
   "cell_type": "code",
   "execution_count": null,
   "metadata": {
    "collapsed": true
   },
   "outputs": [],
   "source": [
    "def makeTrainData(numRows):\n",
    "    #TRAIN DATA\n",
    "    trainfile = open(\"train.csv\", \"w\")\n",
    "    #numLines = (int(input('Number of lines of data to generate: ')))\n",
    "    line = \"input1, input2\" + \"\\n\"\n",
    "    trainfile.write(line)\n",
    "    for i in range(numRows):\n",
    "        line = str(random.uniform(0, 1)) + \", \" + str(random.uniform(0, 1)) + \"\\n\"\n",
    "        trainfile.write(line)\n",
    "        print(line)\n",
    "    trainfile.close()\n",
    "\n",
    "def makeTestData(numRows, file, x1, y1, x2, y2):\n",
    "    #TEST DATA\n",
    "    testfile = open(file, \"w\")\n",
    "    line = \"input1, input2\" + \"\\n\"\n",
    "    testfile.write(line)\n",
    "    for i in range(numRows):\n",
    "        line = str(random.uniform(x1, y1)) + \", \" + str(random.uniform(x2, y2)) + \"\\n\"\n",
    "        testfile.write(line)\n",
    "        print(line)\n",
    "    testfile.close()"
   ]
  },
  {
   "cell_type": "code",
   "execution_count": null,
   "metadata": {
    "collapsed": false
   },
   "outputs": [],
   "source": [
    "makeTrainData(rows)"
   ]
  },
  {
   "cell_type": "code",
   "execution_count": null,
   "metadata": {
    "collapsed": false
   },
   "outputs": [],
   "source": [
    "makeTestData(rows, \"test1.csv\", .5, .6, .2, .3)"
   ]
  },
  {
   "cell_type": "code",
   "execution_count": null,
   "metadata": {
    "collapsed": false
   },
   "outputs": [],
   "source": [
    "makeTestData(rows, \"test2.csv\", .1, .2, .7, .8)"
   ]
  },
  {
   "cell_type": "code",
   "execution_count": null,
   "metadata": {
    "collapsed": false
   },
   "outputs": [],
   "source": [
    "#Unwieghted data - To train network on \n",
    "def getData(numRows, file):\n",
    "    tf = open(file, \"r\")\n",
    "    content = tf.readlines()\n",
    "    #Parse file\n",
    "    input = []\n",
    "    content = [x.strip() for x in content[1:]] \n",
    "    for y in content:\n",
    "        row = [float(col) for col in y.split(\", \")]\n",
    "        #print(row)\n",
    "        input.append(row)\n",
    "    tf.close()\n",
    "    return input\n",
    "    \n",
    "inputs = getData(rows, \"train.csv\")"
   ]
  },
  {
   "cell_type": "code",
   "execution_count": null,
   "metadata": {
    "collapsed": false
   },
   "outputs": [],
   "source": [
    "def countFalse(inputs):\n",
    "    count = 0\n",
    "    for r in inputs:\n",
    "        if((r[0] + r[1]) < 1):\n",
    "            #1 top half\n",
    "            count += 1\n",
    "    return count\n",
    "        #else: \n",
    "            #0 bottom half\n",
    "            # false result"
   ]
  },
  {
   "cell_type": "code",
   "execution_count": null,
   "metadata": {
    "collapsed": false
   },
   "outputs": [],
   "source": [
    "falseCountTrainData = countFalse(inputs)\n",
    "print(falseCountTrainData)"
   ]
  },
  {
   "cell_type": "code",
   "execution_count": null,
   "metadata": {
    "collapsed": false
   },
   "outputs": [],
   "source": [
    "#desired output/target\n",
    "def des(inputs):\n",
    "    one = inputs[0]\n",
    "    two = inputs[1]\n",
    "    print(two)\n",
    "    if((one + two) > 1):\n",
    "        #1 top half\n",
    "        return [int(1)]\n",
    "    else: \n",
    "        #0 bottom half\n",
    "        return [int(0)]\n",
    "# set inputs and desired output \n",
    "\n",
    "net.set_target_function(des)\n"
   ]
  },
  {
   "cell_type": "code",
   "execution_count": null,
   "metadata": {
    "collapsed": false
   },
   "outputs": [],
   "source": [
    "net.set_inputs(inputs)"
   ]
  },
  {
   "cell_type": "code",
   "execution_count": null,
   "metadata": {
    "collapsed": false
   },
   "outputs": [],
   "source": [
    "net.train()"
   ]
  },
  {
   "cell_type": "code",
   "execution_count": null,
   "metadata": {
    "collapsed": false
   },
   "outputs": [],
   "source": [
    "#try network on test data\n",
    "def getResults(numInputs, file):\n",
    "    inputs = getData(numInputs, file)\n",
    "    results = []\n",
    "    for i in inputs:\n",
    "        results.append(net.propagate(i))\n",
    "    return results"
   ]
  },
  {
   "cell_type": "code",
   "execution_count": null,
   "metadata": {
    "collapsed": true
   },
   "outputs": [],
   "source": [
    "results1 = getResults(rows, \"test1.csv\")"
   ]
  },
  {
   "cell_type": "code",
   "execution_count": null,
   "metadata": {
    "collapsed": true
   },
   "outputs": [],
   "source": [
    "results2 = getResults(rows, \"test2.csv\")"
   ]
  },
  {
   "cell_type": "code",
   "execution_count": null,
   "metadata": {
    "collapsed": false
   },
   "outputs": [],
   "source": [
    "arrayResults = []\n",
    "arrayResults.append(results1)\n",
    "arrayResults.append(results2)"
   ]
  },
  {
   "cell_type": "code",
   "execution_count": null,
   "metadata": {
    "collapsed": false
   },
   "outputs": [],
   "source": [
    "def getBias(res, falseTrain, lenTrain):\n",
    "    resFalseCount = 0\n",
    "    \n",
    "    #total falses from test dataset of interest\n",
    "    for i in res:\n",
    "        if i < .5:\n",
    "            resFalseCount += 1\n",
    "    \n",
    "    numer = resFalseCount/len(res)\n",
    "    demo = falseTrain/lenTrain\n",
    "    \n",
    "    print(numer)\n",
    "    print(demo)\n",
    "    return numer/demo\n",
    "\n",
    "#((test data of interest), (arrayOfTest))\n",
    "print(getBias(results1, falseCountTrainData, rows))     "
   ]
  },
  {
   "cell_type": "code",
   "execution_count": null,
   "metadata": {
    "collapsed": false
   },
   "outputs": [],
   "source": [
    "print(getBias(results2, falseCountTrainData, rows))  "
   ]
  },
  {
   "cell_type": "code",
   "execution_count": null,
   "metadata": {
    "collapsed": false
   },
   "outputs": [],
   "source": [
    "net.test()"
   ]
  },
  {
   "cell_type": "code",
   "execution_count": null,
   "metadata": {
    "collapsed": true
   },
   "outputs": [],
   "source": [
    "net.reset()"
   ]
  },
  {
   "cell_type": "code",
   "execution_count": null,
   "metadata": {
    "collapsed": false
   },
   "outputs": [],
   "source": [
    "net.train()"
   ]
  },
  {
   "cell_type": "code",
   "execution_count": null,
   "metadata": {
    "collapsed": false
   },
   "outputs": [],
   "source": [
    "net.test()"
   ]
  },
  {
   "cell_type": "code",
   "execution_count": null,
   "metadata": {
    "collapsed": false
   },
   "outputs": [],
   "source": [
    "%matplotlib inline\n",
    "import matplotlib.pyplot as plt\n",
    "import numpy as np\n",
    "\n",
    "res = 50 # resolution\n",
    "z = np.zeros((res, res))\n",
    "\n",
    "for x in range(res):\n",
    "    for y in range(res):\n",
    "        z[x][y] = net.propagate([x/res, y/res])\n",
    "\n",
    "plt.imshow(z, cmap=plt.cm.gray, interpolation='nearest')\n",
    "plt.xlabel(\"input 1\")\n",
    "plt.ylabel(\"input 2\")\n",
    "plt.title(\"Output Activation\")"
   ]
  },
  {
   "cell_type": "code",
   "execution_count": null,
   "metadata": {
    "collapsed": false
   },
   "outputs": [],
   "source": [
    "%matplotlib inline\n",
    "import matplotlib.pyplot as plt\n",
    "import numpy as np\n",
    "\n",
    "res = 50 # resolution\n",
    "z = np.zeros((res, res))\n",
    "\n",
    "for x in range(res):\n",
    "    for y in range(res):\n",
    "        z[x][y] = net.propagate([x/res, y/res])\n",
    "\n",
    "plt.imshow(z, cmap=plt.cm.gray, interpolation='nearest', origin=\"lower\")\n",
    "plt.xlabel(\"input 1\")\n",
    "plt.ylabel(\"input 2\")\n",
    "plt.title(\"Outputs Activation\")"
   ]
  },
  {
   "cell_type": "code",
   "execution_count": null,
   "metadata": {
    "collapsed": false
   },
   "outputs": [],
   "source": [
    "net.reset()\n",
    "net.train(max_training_epochs=1000, momentum=0.8, epsilon=.1)\n",
    "net.test()"
   ]
  },
  {
   "cell_type": "code",
   "execution_count": 30,
   "metadata": {
    "collapsed": false
   },
   "outputs": [
    {
     "name": "stdout",
     "output_type": "stream",
     "text": [
      "7215\n"
     ]
    }
   ],
   "source": [
    "def getData(file):\n",
    "    #open file\n",
    "    tf = open(file, \"r\")\n",
    "    content = tf.readlines()\n",
    "    row_count = sum(1 for row in content)\n",
    "    print(row_count)\n",
    "    #Parse file\n",
    "    input = []\n",
    "    content = [x.strip() for x in content[1:]]\n",
    "    for y in content:\n",
    "        row = [col for col in y.split(\",\")]\n",
    "        #print(row)\n",
    "        input.append(row)\n",
    "    tf.close()\n",
    "    return input\n",
    "\n",
    "cols = getData(\"compas-scores-two-years.csv\")"
   ]
  },
  {
   "cell_type": "code",
   "execution_count": 31,
   "metadata": {
    "collapsed": false
   },
   "outputs": [],
   "source": [
    "def parseInputs(inputs):\n",
    "    new = []\n",
    "    row = []\n",
    "    for r in inputs:\n",
    "        #0\n",
    "        if r[5] == \"Male\":\n",
    "            row.append(1)\n",
    "        if r[5] == \"Female\":\n",
    "            row.append(0)\n",
    "        #Age: Greater than 45, 25 - 45, and Less than 25\n",
    "        #1, 2, and 3\n",
    "        if r[8] == \"Greater than 45\":\n",
    "            row.append(1)\n",
    "            row.append(0)\n",
    "            row.append(0)\n",
    "        if r[8] == \"25 - 45\":\n",
    "            row.append(0)\n",
    "            row.append(1)\n",
    "            row.append(0)\n",
    "        if r[8] == \"Less than 25\":\n",
    "            row.append(0)\n",
    "            row.append(0)\n",
    "            row.append(1)\n",
    "        #race = Caucasian, African-American, Hispanic, Other, Native American\n",
    "        #4, 5, 6, 7, 8 \n",
    "        if r[9] == \"Caucasian\":\n",
    "            row.append(1)\n",
    "            row.append(0)\n",
    "            row.append(0)\n",
    "            row.append(0)\n",
    "            row.append(0)\n",
    "        if r[9] == \"African-American\":\n",
    "            row.append(0)\n",
    "            row.append(1)\n",
    "            row.append(0)\n",
    "            row.append(0)\n",
    "            row.append(0)\n",
    "        if r[9] == \"Hispanic\":\n",
    "            row.append(0)\n",
    "            row.append(0)\n",
    "            row.append(1)\n",
    "            row.append(0)\n",
    "            row.append(0)\n",
    "        if r[9] == \"Other\":\n",
    "            row.append(0)\n",
    "            row.append(0)\n",
    "            row.append(0)\n",
    "            row.append(1)\n",
    "            row.append(0)\n",
    "        if r[9] == \"Native American\":\n",
    "            row.append(0)\n",
    "            row.append(0)\n",
    "            row.append(0)\n",
    "            row.append(0)\n",
    "            row.append(1)\n",
    "        #Risk recidivism Score: Low, Medium, and High\n",
    "        #9, 10, 11\n",
    "        if r[40] == \"Low\":\n",
    "            row.append(1)\n",
    "            row.append(0)\n",
    "            row.append(0)\n",
    "        if r[40] == \"Medium\":\n",
    "            row.append(0)\n",
    "            row.append(1)\n",
    "            row.append(0)\n",
    "        if r[40] == \"High\":\n",
    "            row.append(0)\n",
    "            row.append(0)\n",
    "            row.append(1)\n",
    "        #Risk of violence Score: Low, Medium, and High\n",
    "        #12, 13, 14\n",
    "        if r[44] == \"Low\":\n",
    "            row.append(1)\n",
    "            row.append(0)\n",
    "            row.append(0)\n",
    "        if r[44] == \"Medium\":\n",
    "            row.append(0)\n",
    "            row.append(1)\n",
    "            row.append(0)\n",
    "        if r[44] == \"High\":\n",
    "            row.append(0)\n",
    "            row.append(0)\n",
    "            row.append(1)\n",
    "        #proir counts\n",
    "        #two_year_recid\n",
    "        #15\n",
    "        if r[52] == '0':\n",
    "            row.append(0)\n",
    "        if r[52] == '1':\n",
    "            row.append(1)\n",
    "            \n",
    "        if row != []:\n",
    "            new.append(row)\n",
    "        row = []\n",
    "    return new\n",
    "\n",
    "tempinputs = parseInputs(cols)\n",
    "inputs = []\n",
    "\n",
    "for r in range(1000):\n",
    "    inputs.append(tempinputs[r])\n",
    "    "
   ]
  },
  {
   "cell_type": "code",
   "execution_count": null,
   "metadata": {
    "collapsed": true
   },
   "outputs": [],
   "source": []
  }
 ],
 "metadata": {
  "kernelspec": {
   "display_name": "Python 3",
   "language": "python",
   "name": "python3"
  },
  "language_info": {
   "codemirror_mode": {
    "name": "ipython",
    "version": 3
   },
   "file_extension": ".py",
   "mimetype": "text/x-python",
   "name": "python",
   "nbconvert_exporter": "python",
   "pygments_lexer": "ipython3",
   "version": "3.5.2"
  }
 },
 "nbformat": 4,
 "nbformat_minor": 1
}
